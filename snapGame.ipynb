{
 "cells": [
  {
   "cell_type": "code",
   "execution_count": 3,
   "metadata": {},
   "outputs": [
    {
     "name": "stdout",
     "output_type": "stream",
     "text": [
      "Input Int: How many packs of cards to use? (1-5 packs)2\n",
      "Input Str: suit, value, bothsuit\n",
      "Player 1 has 43 cards.\n",
      "Player 2 has 55 cards.\n",
      "Player 2 wins!\n"
     ]
    }
   ],
   "source": [
    "import random\n",
    "\n",
    "def shuffledCards(numPacks):\n",
    "    SUITS = ['S','H','D','C']\n",
    "    FACEVALUE = ['2', '3', '4', '5', '6', '7', '8', '9', '10', 'J', 'Q', 'K', 'A']\n",
    "    deck = [facevalue + suit for suit in SUITS for facevalue in FACEVALUE] * int(numPacks)\n",
    "    random.shuffle(deck)\n",
    "    return deck\n",
    "\n",
    "def snapGamePlay(numPacks, matchCondition):\n",
    "    deck = shuffledCards(int(numPacks))\n",
    "    playerOneCards = []\n",
    "    playerTwoCards = []\n",
    "    commonDiscardPile = []\n",
    "\n",
    "    for card in deck:\n",
    "        commonDiscardPile.append(card)\n",
    "        if len(commonDiscardPile) < 2:\n",
    "            continue\n",
    "\n",
    "        if matchCondition == 'suit' and commonDiscardPile[-1][-1] == commonDiscardPile[-2][-1]:\n",
    "            snap_winner = random.choice(['Player 1', 'Player 2'])\n",
    "            if snap_winner == 'Player 1':\n",
    "                playerOneCards += commonDiscardPile\n",
    "            else:\n",
    "                playerTwoCards += commonDiscardPile\n",
    "            commonDiscardPile = []\n",
    "        elif matchCondition == 'value' and commonDiscardPile[-1][:-1] == commonDiscardPile[-2][:-1]:\n",
    "            snap_winner = random.choice(['Player 1', 'Player 2'])\n",
    "            if snap_winner == 'Player 1':\n",
    "                playerOneCards += commonDiscardPile\n",
    "            else:\n",
    "                playerTwoCards += commonDiscardPile\n",
    "            commonDiscardPile = []\n",
    "        elif matchCondition == 'both' and commonDiscardPile[-1] == commonDiscardPile[-2]:\n",
    "            snap_winner = random.choice(['Player 1', 'Player 2'])\n",
    "            if snap_winner == 'Player 1':\n",
    "                playerOneCards += commonDiscardPile\n",
    "            else:\n",
    "                playerTwoCards += commonDiscardPile\n",
    "            commonDiscardPile = []\n",
    "    winner = declareWinner(playerOneCards, playerTwoCards)\n",
    "\n",
    "def declareWinner(playerOneCards, playerTwoCards):\n",
    "    print(f\"Player 1 has {len(playerOneCards)} cards.\")\n",
    "    print(f\"Player 2 has {len(playerTwoCards)} cards.\")\n",
    "    if len(playerOneCards) > len(playerTwoCards):\n",
    "        print(\"Player 1 wins!\")\n",
    "    elif len(playerOneCards) < len(playerTwoCards):\n",
    "        print(\"Player 2 wins!\")\n",
    "    else:\n",
    "        print(\"Draw!\")\n",
    "        \n",
    "if __name__ == '__main__':\n",
    "\n",
    "    packChoice = ['1','2','3','4','5']\n",
    "    conditionChoice = ['suit','value','both']\n",
    "\n",
    "    while True:\n",
    "        num = input('Input Int: How many packs of cards to use? (1-5 packs)')\n",
    "        choice = input('Input Str: suit, value, both')\n",
    "        \n",
    "        if num not in packChoice or choice not in conditionChoice:\n",
    "            print('Try again.')\n",
    "        else:\n",
    "            break\n",
    "\n",
    "    snapGamePlay(num, choice)"
   ]
  }
 ],
 "metadata": {
  "kernelspec": {
   "display_name": "Python 3",
   "language": "python",
   "name": "python3"
  },
  "language_info": {
   "codemirror_mode": {
    "name": "ipython",
    "version": 3
   },
   "file_extension": ".py",
   "mimetype": "text/x-python",
   "name": "python",
   "nbconvert_exporter": "python",
   "pygments_lexer": "ipython3",
   "version": "3.6.5"
  }
 },
 "nbformat": 4,
 "nbformat_minor": 2
}
